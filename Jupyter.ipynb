{
 "cells": [
  {
   "cell_type": "markdown",
   "id": "593617ab",
   "metadata": {},
   "source": [
    "## Дана функция f(x) =0.6x^3+5.5x^2+10x -5\n",
    "\n",
    "1. Определить корни\n",
    "\n",
    "2. Найти интервалы, на которых функция возрастает\n",
    "\n",
    "3. Найти интервалы, на которых функция убывает\n",
    "\n",
    "4. Построить график\n",
    "\n",
    "5. Вычислить вершину\n",
    "\n",
    "6. Определить промежутки, на котором f > 0\n",
    "\n",
    "7. Определить промежутки, на котором f < 0"
   ]
  },
  {
   "cell_type": "markdown",
   "id": "3f05650c",
   "metadata": {},
   "source": [
    "## Задаем функцию"
   ]
  },
  {
   "cell_type": "code",
   "execution_count": 12,
   "id": "7fab1d9c",
   "metadata": {},
   "outputs": [],
   "source": [
    "from sympy import *\n",
    "from sympy.plotting import plot\n",
    "\n",
    "a = float(0.6)\n",
    "b = float(5.5)\n",
    "c = float(10)\n",
    "d = float(-5)\n",
    "\n",
    "x = Symbol(\"x\")\n",
    "f_x = a * (x**3) + b * (x**2) + c * (x**1) + d"
   ]
  },
  {
   "cell_type": "markdown",
   "id": "a66d0bdf",
   "metadata": {},
   "source": [
    "## Определяем корни уравнения"
   ]
  },
  {
   "cell_type": "code",
   "execution_count": 28,
   "id": "fbd0d481",
   "metadata": {},
   "outputs": [
    {
     "name": "stdout",
     "output_type": "stream",
     "text": [
      "Корни уравления: (-6.32, -3.25, 0.41)\n"
     ]
    }
   ],
   "source": [
    "x1 = round(solve(f_x,x)[0],2)\n",
    "x2 = round(solve(f_x,x)[1],2)\n",
    "x3 = round(solve(f_x,x)[2],2)\n",
    "\n",
    "print(f\"Корни уравления: {x1,x2,x3}\")"
   ]
  },
  {
   "cell_type": "markdown",
   "id": "573d0a4f",
   "metadata": {},
   "source": [
    "## Ищем интервалы, на которых функция возрастает"
   ]
  },
  {
   "cell_type": "code",
   "execution_count": 29,
   "id": "fad2f7ef",
   "metadata": {},
   "outputs": [
    {
     "data": {
      "text/latex": [
       "$\\displaystyle \\left(-1.11111111111111 < x \\wedge x < \\infty\\right) \\vee \\left(-\\infty < x \\wedge x < -5.0\\right)$"
      ],
      "text/plain": [
       "((-1.11111111111111 < x) & (x < oo)) | ((-oo < x) & (x < -5.0))"
      ]
     },
     "execution_count": 29,
     "metadata": {},
     "output_type": "execute_result"
    }
   ],
   "source": [
    "df = diff(f_x)\n",
    "solve(df > 0, x)"
   ]
  },
  {
   "cell_type": "markdown",
   "id": "8e0a6a35",
   "metadata": {},
   "source": [
    "## Ищем интервалы, на которых функция убывает"
   ]
  },
  {
   "cell_type": "code",
   "execution_count": 30,
   "id": "a3fdf21c",
   "metadata": {},
   "outputs": [
    {
     "data": {
      "text/latex": [
       "$\\displaystyle -5.0 < x \\wedge x < -1.11111111111111$"
      ],
      "text/plain": [
       "(-5.0 < x) & (x < -1.11111111111111)"
      ]
     },
     "execution_count": 30,
     "metadata": {},
     "output_type": "execute_result"
    }
   ],
   "source": [
    "solve(df < 0, x)"
   ]
  },
  {
   "cell_type": "markdown",
   "id": "11d62d14",
   "metadata": {},
   "source": [
    "## Строим график"
   ]
  },
  {
   "cell_type": "code",
   "execution_count": 19,
   "id": "35b50630",
   "metadata": {},
   "outputs": [
    {
     "data": {
      "image/png": "[encoded data removed]",
      "text/plain": [
       "<Figure size 640x480 with 1 Axes>"
      ]
     },
     "metadata": {},
     "output_type": "display_data"
    }
   ],
   "source": [
    "g1 = plot(f_x,(x, -10,10), line_color='red', title=\"График функции\")"
   ]
  },
  {
   "cell_type": "markdown",
   "id": "2314a1fd",
   "metadata": {},
   "source": [
    "## Вычисляем вершину"
   ]
  },
  {
   "cell_type": "code",
   "execution_count": 41,
   "id": "60fef20e",
   "metadata": {},
   "outputs": [
    {
     "name": "stdout",
     "output_type": "stream",
     "text": [
      "Вершины: (-5.0, 7.5), (-1.1, -10.)\n"
     ]
    }
   ],
   "source": [
    "h11 = solve(df,x)[0].n(2)\n",
    "h12 = solve(df,x)[1].n(2)\n",
    "h21 = f_x.subs(x,h11).n(2)\n",
    "h22 = f_x.subs(x,h12).n(2)\n",
    "\n",
    "print(f\"Вершины: {h11,h21}, {h12,h22}\")"
   ]
  },
  {
   "cell_type": "markdown",
   "id": "0c0b4b32",
   "metadata": {},
   "source": [
    "## Определяем промежутки, на которых f > 0"
   ]
  },
  {
   "cell_type": "code",
   "execution_count": 32,
   "id": "72270788",
   "metadata": {},
   "outputs": [
    {
     "data": {
      "text/latex": [
       "$\\displaystyle \\left(-6.32174537314726 < x \\wedge x < -3.25046383307744\\right) \\vee \\left(0.405542539558034 < x \\wedge x < \\infty\\right)$"
      ],
      "text/plain": [
       "((-6.32174537314726 < x) & (x < -3.25046383307744)) | ((0.405542539558034 < x) & (x < oo))"
      ]
     },
     "execution_count": 32,
     "metadata": {},
     "output_type": "execute_result"
    }
   ],
   "source": [
    "solve(f_x > 0, x)"
   ]
  },
  {
   "cell_type": "markdown",
   "id": "5964337d",
   "metadata": {},
   "source": [
    "## Определяем промежутки, на которых f < 0"
   ]
  },
  {
   "cell_type": "code",
   "execution_count": 33,
   "id": "6388f4a7",
   "metadata": {},
   "outputs": [
    {
     "data": {
      "text/latex": [
       "$\\displaystyle \\left(-3.25046383307744 < x \\wedge x < 0.405542539558034\\right) \\vee \\left(-\\infty < x \\wedge x < -6.32174537314726\\right)$"
      ],
      "text/plain": [
       "((-3.25046383307744 < x) & (x < 0.405542539558034)) | ((-oo < x) & (x < -6.32174537314726))"
      ]
     },
     "execution_count": 33,
     "metadata": {},
     "output_type": "execute_result"
    }
   ],
   "source": [
    "solve(f_x < 0, x)"
   ]
  },
  {
   "cell_type": "code",
   "execution_count": 43,
   "id": "0ce9fffb",
   "metadata": {},
   "outputs": [
    {
     "name": "stdout",
     "output_type": "stream",
     "text": [
      "Initialized empty Git repository in C:/Users/User/Desktop/Р РЎ/РџРёС‚РѕРЅ/.git/\n"
     ]
    }
   ],
   "source": [
    "!git init"
   ]
  }
 ],
 "metadata": {
  "kernelspec": {
   "display_name": "Python 3 (ipykernel)",
   "language": "python",
   "name": "python3"
  },
  "language_info": {
   "codemirror_mode": {
    "name": "ipython",
    "version": 3
   },
   "file_extension": ".py",
   "mimetype": "text/x-python",
   "name": "python",
   "nbconvert_exporter": "python",
   "pygments_lexer": "ipython3",
   "version": "3.9.13"
  }
 },
 "nbformat": 4,
 "nbformat_minor": 5
}
